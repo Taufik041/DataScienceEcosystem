{
 "cells": [
  {
   "cell_type": "markdown",
   "id": "4aead1aa-5e8b-4008-bd9a-31f4509f916f",
   "metadata": {},
   "source": [
    "# Data Science Tools and Ecosystem"
   ]
  },
  {
   "cell_type": "markdown",
   "id": "217de0a8-64ec-4791-93c5-6ae72cc68ffb",
   "metadata": {},
   "source": [
    "## Introduction  \n",
    "In this notebook, Data Science Tools and Ecosystem are summarized."
   ]
  },
  {
   "cell_type": "markdown",
   "id": "7da421d7-92d0-47f2-85d8-ef3fe9413292",
   "metadata": {},
   "source": [
    "## Data Science Languages  \n",
    "Some of the popular languages that Data Scientists use are:  \n",
    "1. Python  \n",
    "2. R  \n",
    "3. SQL  \n",
    "4. Julia  \n",
    "5. Scala"
   ]
  },
  {
   "cell_type": "markdown",
   "id": "fb32b2a3-94a4-4488-8843-0829d2266a05",
   "metadata": {},
   "source": [
    "## Data Science Libraries  \n",
    "Some of the commonly used libraries used by Data Scientists include:  \n",
    "1. NumPy  \n",
    "2. Pandas  \n",
    "3. Matplotlib  \n",
    "4. Scikit-learn  \n",
    "5. TensorFlow  "
   ]
  },
  {
   "cell_type": "markdown",
   "id": "c0df1765-30f7-41e1-8daf-064e10d32db3",
   "metadata": {},
   "source": [
    "## Data Science Tools  \n",
    "\n",
    "| Data Science Tools |  \n",
    "|--------------------|  \n",
    "| Jupyter Notebook   |  \n",
    "| RStudio            |  \n",
    "| Visual Studio Code |  \n"
   ]
  },
  {
   "cell_type": "markdown",
   "id": "3ff55978-c0ac-457f-a290-3da0bbb1b9a6",
   "metadata": {},
   "source": [
    "### Below are a few examples of evaluating arithmetic expressions in Python.  "
   ]
  },
  {
   "cell_type": "code",
   "execution_count": 3,
   "id": "292aadaa-52db-4381-97dc-79b5858b8127",
   "metadata": {},
   "outputs": [
    {
     "data": {
      "text/plain": [
       "17"
      ]
     },
     "execution_count": 3,
     "metadata": {},
     "output_type": "execute_result"
    }
   ],
   "source": [
    "# This is a simple arithmetic expression to multiply then add integers\n",
    "result = (3 * 4) + 5\n",
    "result\n"
   ]
  },
  {
   "cell_type": "code",
   "execution_count": 4,
   "id": "dc8f3c8b-54fa-4a07-8332-68a216af9126",
   "metadata": {},
   "outputs": [
    {
     "data": {
      "text/plain": [
       "3.3333333333333335"
      ]
     },
     "execution_count": 4,
     "metadata": {},
     "output_type": "execute_result"
    }
   ],
   "source": [
    "# This will convert 200 minutes to hours by dividing by 60\n",
    "minutes = 200\n",
    "hours = minutes / 60\n",
    "hours\n"
   ]
  },
  {
   "cell_type": "markdown",
   "id": "0573f7cd-6bb1-4916-b70f-53f59ec8925e",
   "metadata": {},
   "source": [
    "**Objectives:**  \n",
    "- List popular languages for Data Science.  \n",
    "- Identify commonly used libraries in Data Science.  \n",
    "- Create a table of Data Science tools.  \n",
    "- Perform arithmetic operations in Python.  \n",
    "- Share the notebook via GitHub.  \n"
   ]
  },
  {
   "cell_type": "markdown",
   "id": "c32921c0-5695-4bde-be30-f6bb7064b2d3",
   "metadata": {},
   "source": [
    "## Author  \n",
    "Taufik Khan"
   ]
  },
  {
   "cell_type": "code",
   "execution_count": null,
   "id": "aa1f8c2c-b297-4d34-a986-eb7172287e76",
   "metadata": {},
   "outputs": [],
   "source": []
  }
 ],
 "metadata": {
  "kernelspec": {
   "display_name": "Python 3 (ipykernel)",
   "language": "python",
   "name": "python3"
  },
  "language_info": {
   "codemirror_mode": {
    "name": "ipython",
    "version": 3
   },
   "file_extension": ".py",
   "mimetype": "text/x-python",
   "name": "python",
   "nbconvert_exporter": "python",
   "pygments_lexer": "ipython3",
   "version": "3.12.7"
  }
 },
 "nbformat": 4,
 "nbformat_minor": 5
}
